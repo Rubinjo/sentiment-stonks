{
 "cells": [
  {
   "cell_type": "code",
   "execution_count": 6,
   "metadata": {},
   "outputs": [
    {
     "name": "stdout",
     "output_type": "stream",
     "text": [
      "test\n"
     ]
    }
   ],
   "source": [
    "from auth import CLIENT_ID\n",
    "from auth import SECRET_KEY\n",
    "\n",
    "print(CLIENT_ID)\n"
   ]
  }
 ],
 "metadata": {
  "interpreter": {
   "hash": "7655dccab25508e2b7250356d0c4fb2b1981e06266edd0cc1bf19819e9b5c49e"
  },
  "kernelspec": {
   "display_name": "Python 3.9.5 64-bit ('base': conda)",
   "language": "python",
   "name": "python3"
  },
  "language_info": {
   "codemirror_mode": {
    "name": "ipython",
    "version": 3
   },
   "file_extension": ".py",
   "mimetype": "text/x-python",
   "name": "python",
   "nbconvert_exporter": "python",
   "pygments_lexer": "ipython3",
   "version": "3.9.7"
  },
  "orig_nbformat": 4
 },
 "nbformat": 4,
 "nbformat_minor": 2
}
